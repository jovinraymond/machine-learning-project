{
  "nbformat": 4,
  "nbformat_minor": 0,
  "metadata": {
    "colab": {
      "provenance": [],
      "authorship_tag": "ABX9TyNbZjHI6qAeDuMSgIUYUx9q",
      "include_colab_link": true
    },
    "kernelspec": {
      "name": "python3",
      "display_name": "Python 3"
    },
    "language_info": {
      "name": "python"
    }
  },
  "cells": [
    {
      "cell_type": "markdown",
      "metadata": {
        "id": "view-in-github",
        "colab_type": "text"
      },
      "source": [
        "<a href=\"https://colab.research.google.com/github/jovinraymond/machine-learning-project/blob/main/ENGINE_CAR_HEALTH_MONITORING_PROJECT.ipynb\" target=\"_parent\"><img src=\"https://colab.research.google.com/assets/colab-badge.svg\" alt=\"Open In Colab\"/></a>"
      ]
    },
    {
      "cell_type": "markdown",
      "source": [
        "##INGEST\n",
        "*italicized text*"
      ],
      "metadata": {
        "id": "Jh9h66_8orGw"
      }
    },
    {
      "cell_type": "code",
      "execution_count": null,
      "metadata": {
        "id": "408ku1M6oqPe"
      },
      "outputs": [],
      "source": []
    },
    {
      "cell_type": "markdown",
      "source": [
        "##EDA"
      ],
      "metadata": {
        "id": "4KDbcNnEo4Ab"
      }
    },
    {
      "cell_type": "code",
      "source": [],
      "metadata": {
        "id": "mxUflTm_o7FF"
      },
      "execution_count": null,
      "outputs": []
    },
    {
      "cell_type": "markdown",
      "source": [
        "##MODDELING"
      ],
      "metadata": {
        "id": "tq3tu1Nmo77M"
      }
    },
    {
      "cell_type": "code",
      "source": [],
      "metadata": {
        "id": "4k0ypVnwo-0F"
      },
      "execution_count": null,
      "outputs": []
    },
    {
      "cell_type": "markdown",
      "source": [
        "##CONCLUSION"
      ],
      "metadata": {
        "id": "eFJk5PTPo_ks"
      }
    },
    {
      "cell_type": "code",
      "source": [],
      "metadata": {
        "id": "nWCcLBbDpB5J"
      },
      "execution_count": null,
      "outputs": []
    }
  ]
}